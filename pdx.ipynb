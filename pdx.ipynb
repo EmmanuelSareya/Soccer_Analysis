{
 "cells": [
  {
   "cell_type": "markdown",
   "metadata": {},
   "source": [
    "# Provisional Diagnosis Analysis"
   ]
  },
  {
   "cell_type": "markdown",
   "metadata": {},
   "source": [
    "### Importing libraries"
   ]
  },
  {
   "cell_type": "code",
   "execution_count": 1,
   "metadata": {},
   "outputs": [
    {
     "ename": "FileNotFoundError",
     "evalue": "[Errno 2] No such file or directory: 'C:/Users/dell/Desktop/Pipelines/pho.csv'",
     "output_type": "error",
     "traceback": [
      "\u001b[1;31m---------------------------------------------------------------------------\u001b[0m",
      "\u001b[1;31mFileNotFoundError\u001b[0m                         Traceback (most recent call last)",
      "Cell \u001b[1;32mIn[1], line 7\u001b[0m\n\u001b[0;32m      4\u001b[0m \u001b[38;5;28;01mfrom\u001b[39;00m \u001b[38;5;21;01mdatetime\u001b[39;00m \u001b[38;5;28;01mimport\u001b[39;00m datetime\n\u001b[0;32m      6\u001b[0m \u001b[38;5;66;03m# Importing dataset\u001b[39;00m\n\u001b[1;32m----> 7\u001b[0m data \u001b[38;5;241m=\u001b[39m \u001b[43mpd\u001b[49m\u001b[38;5;241;43m.\u001b[39;49m\u001b[43mread_csv\u001b[49m\u001b[43m(\u001b[49m\u001b[38;5;124;43m\"\u001b[39;49m\u001b[38;5;124;43mC:/Users/dell/Desktop/Pipelines/pho.csv\u001b[39;49m\u001b[38;5;124;43m\"\u001b[39;49m\u001b[43m)\u001b[49m\n",
      "File \u001b[1;32m~\\AppData\\Local\\Packages\\PythonSoftwareFoundation.Python.3.11_qbz5n2kfra8p0\\LocalCache\\local-packages\\Python311\\site-packages\\pandas\\io\\parsers\\readers.py:1026\u001b[0m, in \u001b[0;36mread_csv\u001b[1;34m(filepath_or_buffer, sep, delimiter, header, names, index_col, usecols, dtype, engine, converters, true_values, false_values, skipinitialspace, skiprows, skipfooter, nrows, na_values, keep_default_na, na_filter, verbose, skip_blank_lines, parse_dates, infer_datetime_format, keep_date_col, date_parser, date_format, dayfirst, cache_dates, iterator, chunksize, compression, thousands, decimal, lineterminator, quotechar, quoting, doublequote, escapechar, comment, encoding, encoding_errors, dialect, on_bad_lines, delim_whitespace, low_memory, memory_map, float_precision, storage_options, dtype_backend)\u001b[0m\n\u001b[0;32m   1013\u001b[0m kwds_defaults \u001b[38;5;241m=\u001b[39m _refine_defaults_read(\n\u001b[0;32m   1014\u001b[0m     dialect,\n\u001b[0;32m   1015\u001b[0m     delimiter,\n\u001b[1;32m   (...)\u001b[0m\n\u001b[0;32m   1022\u001b[0m     dtype_backend\u001b[38;5;241m=\u001b[39mdtype_backend,\n\u001b[0;32m   1023\u001b[0m )\n\u001b[0;32m   1024\u001b[0m kwds\u001b[38;5;241m.\u001b[39mupdate(kwds_defaults)\n\u001b[1;32m-> 1026\u001b[0m \u001b[38;5;28;01mreturn\u001b[39;00m \u001b[43m_read\u001b[49m\u001b[43m(\u001b[49m\u001b[43mfilepath_or_buffer\u001b[49m\u001b[43m,\u001b[49m\u001b[43m \u001b[49m\u001b[43mkwds\u001b[49m\u001b[43m)\u001b[49m\n",
      "File \u001b[1;32m~\\AppData\\Local\\Packages\\PythonSoftwareFoundation.Python.3.11_qbz5n2kfra8p0\\LocalCache\\local-packages\\Python311\\site-packages\\pandas\\io\\parsers\\readers.py:620\u001b[0m, in \u001b[0;36m_read\u001b[1;34m(filepath_or_buffer, kwds)\u001b[0m\n\u001b[0;32m    617\u001b[0m _validate_names(kwds\u001b[38;5;241m.\u001b[39mget(\u001b[38;5;124m\"\u001b[39m\u001b[38;5;124mnames\u001b[39m\u001b[38;5;124m\"\u001b[39m, \u001b[38;5;28;01mNone\u001b[39;00m))\n\u001b[0;32m    619\u001b[0m \u001b[38;5;66;03m# Create the parser.\u001b[39;00m\n\u001b[1;32m--> 620\u001b[0m parser \u001b[38;5;241m=\u001b[39m \u001b[43mTextFileReader\u001b[49m\u001b[43m(\u001b[49m\u001b[43mfilepath_or_buffer\u001b[49m\u001b[43m,\u001b[49m\u001b[43m \u001b[49m\u001b[38;5;241;43m*\u001b[39;49m\u001b[38;5;241;43m*\u001b[39;49m\u001b[43mkwds\u001b[49m\u001b[43m)\u001b[49m\n\u001b[0;32m    622\u001b[0m \u001b[38;5;28;01mif\u001b[39;00m chunksize \u001b[38;5;129;01mor\u001b[39;00m iterator:\n\u001b[0;32m    623\u001b[0m     \u001b[38;5;28;01mreturn\u001b[39;00m parser\n",
      "File \u001b[1;32m~\\AppData\\Local\\Packages\\PythonSoftwareFoundation.Python.3.11_qbz5n2kfra8p0\\LocalCache\\local-packages\\Python311\\site-packages\\pandas\\io\\parsers\\readers.py:1620\u001b[0m, in \u001b[0;36mTextFileReader.__init__\u001b[1;34m(self, f, engine, **kwds)\u001b[0m\n\u001b[0;32m   1617\u001b[0m     \u001b[38;5;28mself\u001b[39m\u001b[38;5;241m.\u001b[39moptions[\u001b[38;5;124m\"\u001b[39m\u001b[38;5;124mhas_index_names\u001b[39m\u001b[38;5;124m\"\u001b[39m] \u001b[38;5;241m=\u001b[39m kwds[\u001b[38;5;124m\"\u001b[39m\u001b[38;5;124mhas_index_names\u001b[39m\u001b[38;5;124m\"\u001b[39m]\n\u001b[0;32m   1619\u001b[0m \u001b[38;5;28mself\u001b[39m\u001b[38;5;241m.\u001b[39mhandles: IOHandles \u001b[38;5;241m|\u001b[39m \u001b[38;5;28;01mNone\u001b[39;00m \u001b[38;5;241m=\u001b[39m \u001b[38;5;28;01mNone\u001b[39;00m\n\u001b[1;32m-> 1620\u001b[0m \u001b[38;5;28mself\u001b[39m\u001b[38;5;241m.\u001b[39m_engine \u001b[38;5;241m=\u001b[39m \u001b[38;5;28;43mself\u001b[39;49m\u001b[38;5;241;43m.\u001b[39;49m\u001b[43m_make_engine\u001b[49m\u001b[43m(\u001b[49m\u001b[43mf\u001b[49m\u001b[43m,\u001b[49m\u001b[43m \u001b[49m\u001b[38;5;28;43mself\u001b[39;49m\u001b[38;5;241;43m.\u001b[39;49m\u001b[43mengine\u001b[49m\u001b[43m)\u001b[49m\n",
      "File \u001b[1;32m~\\AppData\\Local\\Packages\\PythonSoftwareFoundation.Python.3.11_qbz5n2kfra8p0\\LocalCache\\local-packages\\Python311\\site-packages\\pandas\\io\\parsers\\readers.py:1880\u001b[0m, in \u001b[0;36mTextFileReader._make_engine\u001b[1;34m(self, f, engine)\u001b[0m\n\u001b[0;32m   1878\u001b[0m     \u001b[38;5;28;01mif\u001b[39;00m \u001b[38;5;124m\"\u001b[39m\u001b[38;5;124mb\u001b[39m\u001b[38;5;124m\"\u001b[39m \u001b[38;5;129;01mnot\u001b[39;00m \u001b[38;5;129;01min\u001b[39;00m mode:\n\u001b[0;32m   1879\u001b[0m         mode \u001b[38;5;241m+\u001b[39m\u001b[38;5;241m=\u001b[39m \u001b[38;5;124m\"\u001b[39m\u001b[38;5;124mb\u001b[39m\u001b[38;5;124m\"\u001b[39m\n\u001b[1;32m-> 1880\u001b[0m \u001b[38;5;28mself\u001b[39m\u001b[38;5;241m.\u001b[39mhandles \u001b[38;5;241m=\u001b[39m \u001b[43mget_handle\u001b[49m\u001b[43m(\u001b[49m\n\u001b[0;32m   1881\u001b[0m \u001b[43m    \u001b[49m\u001b[43mf\u001b[49m\u001b[43m,\u001b[49m\n\u001b[0;32m   1882\u001b[0m \u001b[43m    \u001b[49m\u001b[43mmode\u001b[49m\u001b[43m,\u001b[49m\n\u001b[0;32m   1883\u001b[0m \u001b[43m    \u001b[49m\u001b[43mencoding\u001b[49m\u001b[38;5;241;43m=\u001b[39;49m\u001b[38;5;28;43mself\u001b[39;49m\u001b[38;5;241;43m.\u001b[39;49m\u001b[43moptions\u001b[49m\u001b[38;5;241;43m.\u001b[39;49m\u001b[43mget\u001b[49m\u001b[43m(\u001b[49m\u001b[38;5;124;43m\"\u001b[39;49m\u001b[38;5;124;43mencoding\u001b[39;49m\u001b[38;5;124;43m\"\u001b[39;49m\u001b[43m,\u001b[49m\u001b[43m \u001b[49m\u001b[38;5;28;43;01mNone\u001b[39;49;00m\u001b[43m)\u001b[49m\u001b[43m,\u001b[49m\n\u001b[0;32m   1884\u001b[0m \u001b[43m    \u001b[49m\u001b[43mcompression\u001b[49m\u001b[38;5;241;43m=\u001b[39;49m\u001b[38;5;28;43mself\u001b[39;49m\u001b[38;5;241;43m.\u001b[39;49m\u001b[43moptions\u001b[49m\u001b[38;5;241;43m.\u001b[39;49m\u001b[43mget\u001b[49m\u001b[43m(\u001b[49m\u001b[38;5;124;43m\"\u001b[39;49m\u001b[38;5;124;43mcompression\u001b[39;49m\u001b[38;5;124;43m\"\u001b[39;49m\u001b[43m,\u001b[49m\u001b[43m \u001b[49m\u001b[38;5;28;43;01mNone\u001b[39;49;00m\u001b[43m)\u001b[49m\u001b[43m,\u001b[49m\n\u001b[0;32m   1885\u001b[0m \u001b[43m    \u001b[49m\u001b[43mmemory_map\u001b[49m\u001b[38;5;241;43m=\u001b[39;49m\u001b[38;5;28;43mself\u001b[39;49m\u001b[38;5;241;43m.\u001b[39;49m\u001b[43moptions\u001b[49m\u001b[38;5;241;43m.\u001b[39;49m\u001b[43mget\u001b[49m\u001b[43m(\u001b[49m\u001b[38;5;124;43m\"\u001b[39;49m\u001b[38;5;124;43mmemory_map\u001b[39;49m\u001b[38;5;124;43m\"\u001b[39;49m\u001b[43m,\u001b[49m\u001b[43m \u001b[49m\u001b[38;5;28;43;01mFalse\u001b[39;49;00m\u001b[43m)\u001b[49m\u001b[43m,\u001b[49m\n\u001b[0;32m   1886\u001b[0m \u001b[43m    \u001b[49m\u001b[43mis_text\u001b[49m\u001b[38;5;241;43m=\u001b[39;49m\u001b[43mis_text\u001b[49m\u001b[43m,\u001b[49m\n\u001b[0;32m   1887\u001b[0m \u001b[43m    \u001b[49m\u001b[43merrors\u001b[49m\u001b[38;5;241;43m=\u001b[39;49m\u001b[38;5;28;43mself\u001b[39;49m\u001b[38;5;241;43m.\u001b[39;49m\u001b[43moptions\u001b[49m\u001b[38;5;241;43m.\u001b[39;49m\u001b[43mget\u001b[49m\u001b[43m(\u001b[49m\u001b[38;5;124;43m\"\u001b[39;49m\u001b[38;5;124;43mencoding_errors\u001b[39;49m\u001b[38;5;124;43m\"\u001b[39;49m\u001b[43m,\u001b[49m\u001b[43m \u001b[49m\u001b[38;5;124;43m\"\u001b[39;49m\u001b[38;5;124;43mstrict\u001b[39;49m\u001b[38;5;124;43m\"\u001b[39;49m\u001b[43m)\u001b[49m\u001b[43m,\u001b[49m\n\u001b[0;32m   1888\u001b[0m \u001b[43m    \u001b[49m\u001b[43mstorage_options\u001b[49m\u001b[38;5;241;43m=\u001b[39;49m\u001b[38;5;28;43mself\u001b[39;49m\u001b[38;5;241;43m.\u001b[39;49m\u001b[43moptions\u001b[49m\u001b[38;5;241;43m.\u001b[39;49m\u001b[43mget\u001b[49m\u001b[43m(\u001b[49m\u001b[38;5;124;43m\"\u001b[39;49m\u001b[38;5;124;43mstorage_options\u001b[39;49m\u001b[38;5;124;43m\"\u001b[39;49m\u001b[43m,\u001b[49m\u001b[43m \u001b[49m\u001b[38;5;28;43;01mNone\u001b[39;49;00m\u001b[43m)\u001b[49m\u001b[43m,\u001b[49m\n\u001b[0;32m   1889\u001b[0m \u001b[43m\u001b[49m\u001b[43m)\u001b[49m\n\u001b[0;32m   1890\u001b[0m \u001b[38;5;28;01massert\u001b[39;00m \u001b[38;5;28mself\u001b[39m\u001b[38;5;241m.\u001b[39mhandles \u001b[38;5;129;01mis\u001b[39;00m \u001b[38;5;129;01mnot\u001b[39;00m \u001b[38;5;28;01mNone\u001b[39;00m\n\u001b[0;32m   1891\u001b[0m f \u001b[38;5;241m=\u001b[39m \u001b[38;5;28mself\u001b[39m\u001b[38;5;241m.\u001b[39mhandles\u001b[38;5;241m.\u001b[39mhandle\n",
      "File \u001b[1;32m~\\AppData\\Local\\Packages\\PythonSoftwareFoundation.Python.3.11_qbz5n2kfra8p0\\LocalCache\\local-packages\\Python311\\site-packages\\pandas\\io\\common.py:873\u001b[0m, in \u001b[0;36mget_handle\u001b[1;34m(path_or_buf, mode, encoding, compression, memory_map, is_text, errors, storage_options)\u001b[0m\n\u001b[0;32m    868\u001b[0m \u001b[38;5;28;01melif\u001b[39;00m \u001b[38;5;28misinstance\u001b[39m(handle, \u001b[38;5;28mstr\u001b[39m):\n\u001b[0;32m    869\u001b[0m     \u001b[38;5;66;03m# Check whether the filename is to be opened in binary mode.\u001b[39;00m\n\u001b[0;32m    870\u001b[0m     \u001b[38;5;66;03m# Binary mode does not support 'encoding' and 'newline'.\u001b[39;00m\n\u001b[0;32m    871\u001b[0m     \u001b[38;5;28;01mif\u001b[39;00m ioargs\u001b[38;5;241m.\u001b[39mencoding \u001b[38;5;129;01mand\u001b[39;00m \u001b[38;5;124m\"\u001b[39m\u001b[38;5;124mb\u001b[39m\u001b[38;5;124m\"\u001b[39m \u001b[38;5;129;01mnot\u001b[39;00m \u001b[38;5;129;01min\u001b[39;00m ioargs\u001b[38;5;241m.\u001b[39mmode:\n\u001b[0;32m    872\u001b[0m         \u001b[38;5;66;03m# Encoding\u001b[39;00m\n\u001b[1;32m--> 873\u001b[0m         handle \u001b[38;5;241m=\u001b[39m \u001b[38;5;28;43mopen\u001b[39;49m\u001b[43m(\u001b[49m\n\u001b[0;32m    874\u001b[0m \u001b[43m            \u001b[49m\u001b[43mhandle\u001b[49m\u001b[43m,\u001b[49m\n\u001b[0;32m    875\u001b[0m \u001b[43m            \u001b[49m\u001b[43mioargs\u001b[49m\u001b[38;5;241;43m.\u001b[39;49m\u001b[43mmode\u001b[49m\u001b[43m,\u001b[49m\n\u001b[0;32m    876\u001b[0m \u001b[43m            \u001b[49m\u001b[43mencoding\u001b[49m\u001b[38;5;241;43m=\u001b[39;49m\u001b[43mioargs\u001b[49m\u001b[38;5;241;43m.\u001b[39;49m\u001b[43mencoding\u001b[49m\u001b[43m,\u001b[49m\n\u001b[0;32m    877\u001b[0m \u001b[43m            \u001b[49m\u001b[43merrors\u001b[49m\u001b[38;5;241;43m=\u001b[39;49m\u001b[43merrors\u001b[49m\u001b[43m,\u001b[49m\n\u001b[0;32m    878\u001b[0m \u001b[43m            \u001b[49m\u001b[43mnewline\u001b[49m\u001b[38;5;241;43m=\u001b[39;49m\u001b[38;5;124;43m\"\u001b[39;49m\u001b[38;5;124;43m\"\u001b[39;49m\u001b[43m,\u001b[49m\n\u001b[0;32m    879\u001b[0m \u001b[43m        \u001b[49m\u001b[43m)\u001b[49m\n\u001b[0;32m    880\u001b[0m     \u001b[38;5;28;01melse\u001b[39;00m:\n\u001b[0;32m    881\u001b[0m         \u001b[38;5;66;03m# Binary mode\u001b[39;00m\n\u001b[0;32m    882\u001b[0m         handle \u001b[38;5;241m=\u001b[39m \u001b[38;5;28mopen\u001b[39m(handle, ioargs\u001b[38;5;241m.\u001b[39mmode)\n",
      "\u001b[1;31mFileNotFoundError\u001b[0m: [Errno 2] No such file or directory: 'C:/Users/dell/Desktop/Pipelines/pho.csv'"
     ]
    }
   ],
   "source": [
    "# Importing libraries\n",
    "import pandas as pd\n",
    "import numpy as np\n",
    "from datetime import datetime\n",
    "\n",
    "# Importing dataset\n",
    "data = pd.read_csv(\"C:/Users/dell/Desktop/Pipelines/pho.csv\")"
   ]
  },
  {
   "cell_type": "code",
   "execution_count": null,
   "metadata": {},
   "outputs": [],
   "source": [
    "# view data\n",
    "data"
   ]
  },
  {
   "cell_type": "code",
   "execution_count": null,
   "metadata": {},
   "outputs": [],
   "source": [
    "# Columns to fill NaN values using forward fill\n",
    "columns_to_fill = ['first_name', 'middle_name', 'last_name', 'mr_no1', 'date_of_admission']\n",
    "\n",
    "# Fill NaN values only in the specified columns\n",
    "data[columns_to_fill] = data[columns_to_fill].fillna(method='ffill')\n",
    "\n",
    "# Columns to retain in the final dataset\n",
    "final_columns = [\n",
    "    'record_id', 'redcap_repeat_instrument', 'redcap_repeat_instance', 'first_name',\n",
    "    'middle_name', 'last_name', 'mr_no1', 'date_of_admission', 'diagnosis_category_pdx___1',\n",
    "    'diagnosis_category_pdx___2', 'diagnosis_staging_pdx___1', 'diagnosis_staging_pdx___5',\n",
    "    'main_classification___1', 'main_classification___2', 'main_classification___3',\n",
    "    'main_classification___4', 'main_classification___5', 'main_classification___6', \n",
    "    'main_classification___7', 'main_classification___8', 'main_classification___9', \n",
    "    'main_classification___10', 'main_classification___11', 'main_classification___12', \n",
    "    'main_classification___13', 'main_classification___14', 'extended_classification_le___1', \n",
    "    'extended_classification_le___2', 'extended_classification_le___3', 'extended_classification_le___4', \n",
    "    'extended_classification_ly___1', 'extended_classification_ly___2', 'ex_class_retino', \n",
    "    'extended_classification_ne___1', 'extended_classification_ne___2', 'specify_unilateral_retinob', \n",
    "    'extended_classification_re___1', 'extended_classification_re___2', 'extended_classification_re___3', \n",
    "    'extended_classification_he___1', 'extended_classification_he___2', 'other_specified___1', \n",
    "    'other_specified___2', 'not_cancer_class___1', 'extended_classification_so___1',\n",
    "    'extended_classification_so___2', 'extended_classification_so___3', 'extended_classification_so___4', \n",
    "    'extended_classification_so___5', 'extended_classification_so___6', 'if_benign_specify', \n",
    "    'extended_classification_ma___1', 'extended_classification_ma___2', 'extended_classification_ma___3', \n",
    "    'extended_classification_ma___4', 'skin_neoplasm___1', 'skin_neoplasm___2', 'skin_neoplasm___3', \n",
    "    'skin_neoplasm___x', 'if_other_skin_neoplasm_spe', 'extended_classification_va___1', 'hemangioma_specify_site_2', \n",
    "    'dx_supp_by_onc_pdx___1', 'dx_supp_by_onc_pdx___2', 'dx_supp_by_onc_pdx___3', 'if_supported_by_inv___1', \n",
    "    'if_supported_by_inv___2', 'onc_diagnosis_date_pdx', 'hematology_conditions_v2_601c0d___1', \n",
    "    'hematology_conditions_v2_601c0d___2', 'hematology_conditions_v2_601c0d___3', 'hematology_conditions_v2_601c0d___4', \n",
    "    'hematology_conditions_v2_601c0d___5', 'hematology_conditions_v2_601c0d___6', 'hematology_conditions_v2_601c0d___7', \n",
    "    'red_blood_cells_disorders_v2_504a31', 'anemia_v2_6af468___1', 'anemia_v2_6af468___2', 'anemia_v2_6af468___xx', \n",
    "    'if_hemolytic_anemia_v2_ae9683___1', 'if_hemolytic_anemia_v2_ae9683___2', 'if_hemolytic_anemia_v2_ae9683___3', \n",
    "    'if_hemolytic_anemia_v2_ae9683___4', 'other_anemia_please_specif_v2_3a9059', 'if_non_hemolytic_anemia_v2_ed62d0', \n",
    "    'white_blood_cells_disorder_v2_98d178', 'wbc_aetiology_1', 'if_acquired_neutropenia_v2_85c5b3', \n",
    "    'if_congenital_neutropenia_v2_b0e502', 'if_severe_congenital_neutr_v2_b86f1a', 'platelets_disorders_v2_20342a', \n",
    "    'thrombocytopenia_thrombast_2', 'if_acquired_thrombocytopenia_v2_e0bbe0', 'if_congenital_thrombocytop_v2_d18556', \n",
    "    'thrombosis_disorders_site_v2_dbbdd3', 'coagulopathies_bleeding_di_v2_b1a973', 'aplastic_anemia_v2_97968a', \n",
    "    'if_clotting_factor_deficie_v2_ca418a', 'aplastic_anemia_aetiology_v2_9ddd89', 'acquired_aplastic_anemia_v2_a71bbb', \n",
    "    'if_congenital_bmfs_v2_d1685f', 'transfusion_related_disord_v2_1ce6f9___1', 'transfusion_related_disord_v2_1ce6f9___2', \n",
    "    'if_chronic_transfusion_rel_v2_3fb721___1', 'if_chronic_transfusion_rel_v2_3fb721___2', \n",
    "    'if_acute_transfusion_relat_v2_8f369d___1', 'if_acute_transfusion_relat_v2_8f369d___2', \n",
    "    'if_acute_transfusion_relat_v2_8f369d___3', 'if_acute_transfusion_relat_v2_8f369d___4', \n",
    "    'if_acute_transfusion_relat_v2_8f369d___5', 'if_haemoglobinopathies_v2_50e4b9___1', \n",
    "    'if_haemoglobinopathies_v2_50e4b9___2', 'if_haemoglobinopathies_v2_50e4b9___x', \n",
    "    'if_sickle_cell_disease_scd_v2_8253c6', 'if_thalassemia_v2_154654', 'if_enzymopathies_v2_3c9d61___1', \n",
    "    'if_enzymopathies_v2_3c9d61___2', 'if_enzymopathies_v2_3c9d61___x', 'if_membrinopathies_v2_ed4cb1', \n",
    "    'autoimmune_v2_52a509', 'if_enzymopathies_please_sp_v2_125d57', 'if_other_autoimmune_please_v2_4d0ab1', \n",
    "    'if_other_membrinopathies_p_v2_2cadad', 'oncology_final_diagnosis_d_v2', 'provisional_diagnosis_complete'\n",
    "]\n",
    "\n",
    "# Filter dataset to include only the specified columns\n",
    "final_data = data[final_columns]\n"
   ]
  },
  {
   "cell_type": "code",
   "execution_count": null,
   "metadata": {},
   "outputs": [],
   "source": [
    "#View filtered data\n",
    "final_data"
   ]
  },
  {
   "cell_type": "code",
   "execution_count": 37,
   "metadata": {},
   "outputs": [],
   "source": [
    "# Filter the specific monthly data \n",
    "\n",
    "monthly_data = final_data[\n",
    "    (final_data['date_of_admission'] >= '2024-11-01') & \n",
    "    (final_data['date_of_admission'] <= '2024-11-30') & \n",
    "    (final_data['redcap_repeat_instrument'] == 'provisional_diagnosis') & \n",
    "    (final_data['redcap_repeat_instance'] == 1)\n",
    "]\n"
   ]
  },
  {
   "cell_type": "code",
   "execution_count": null,
   "metadata": {},
   "outputs": [],
   "source": [
    "#View Monthly data\n",
    "\n",
    "monthly_data\n"
   ]
  },
  {
   "cell_type": "code",
   "execution_count": null,
   "metadata": {},
   "outputs": [],
   "source": [
    "# Create a new variable 'diagnosis_category' based on the specified conditions\n",
    "monthly_data['diagnosis_category'] = (\n",
    "    monthly_data.apply(lambda row: 'both' if row['diagnosis_category_pdx___1'] == 1 and row['diagnosis_category_pdx___2'] == 1\n",
    "                  else 'oncology' if row['diagnosis_category_pdx___1'] == 1\n",
    "                  else 'hematology' if row['diagnosis_category_pdx___2'] == 1\n",
    "                  else 'unknown', axis=1)\n",
    ")\n",
    "\n",
    "# Explanation:\n",
    "# - The 'apply' function is used to apply a lambda function to each row of the DataFrame.\n",
    "# - The conditions check the values of 'diagnosis_category_pdx___1' and 'diagnosis_category_pdx___2':\n",
    "#   - If both are 1, 'onc_diagnosis_category' is set to \"both\".\n",
    "#   - If only 'diagnosis_category_pdx___1' is 1, it is set to \"oncology\".\n",
    "#   - If only 'diagnosis_category_pdx___2' is 1, it is set to \"hematology\".\n",
    "#   - If neither condition is met, it is set to \"unknown\".\n"
   ]
  },
  {
   "cell_type": "code",
   "execution_count": null,
   "metadata": {},
   "outputs": [],
   "source": [
    "#View diagnosis category\n",
    "\n",
    "monthly_data[['diagnosis_category']]"
   ]
  },
  {
   "cell_type": "code",
   "execution_count": null,
   "metadata": {},
   "outputs": [],
   "source": [
    "\n",
    "#count diagnosis category\n",
    "monthly_data['diagnosis_category'].value_counts()"
   ]
  },
  {
   "cell_type": "code",
   "execution_count": null,
   "metadata": {},
   "outputs": [],
   "source": [
    "# Create a new variable 'onc_pdx' based on the specified conditions\n",
    "monthly_data['onc_pdx'] = (\n",
    "    monthly_data.apply(lambda row: 'Leukemia and Lymphoma' if row['main_classification___1'] == 1 and row['main_classification___2'] == 1\n",
    "                  else 'Leukemia and Solid Tumor' if row['main_classification___1'] == 1 and row[['main_classification___4', 'main_classification___5', 'main_classification___6', 'main_classification___7', 'main_classification___8', 'main_classification___9', 'main_classification___10', 'main_classification___11', 'main_classification___12', 'main_classification___13']].any() == 1\n",
    "                  else 'Lymphoma and Solid Tumor' if row['main_classification___2'] == 1 and row[['main_classification___4', 'main_classification___5', 'main_classification___6', 'main_classification___7', 'main_classification___8', 'main_classification___9', 'main_classification___10', 'main_classification___11', 'main_classification___12', 'main_classification___13']].any() == 1\n",
    "                  else 'Leukemia and CNS' if row['main_classification___1'] == 1 and row['main_classification___3'] == 1\n",
    "                  else 'Lymphoma and CNS' if row['main_classification___2'] == 1 and row['main_classification___3'] == 1\n",
    "                  else 'Solid Tumor and CNS' if row[['main_classification___4', 'main_classification___5', 'main_classification___6', 'main_classification___7', 'main_classification___8', 'main_classification___9', 'main_classification___10', 'main_classification___11', 'main_classification___12', 'main_classification___13']].any() == 1 and row['main_classification___3'] == 1\n",
    "                  else 'Solid Tumor' if row[['main_classification___4', 'main_classification___5', 'main_classification___6', 'main_classification___7', 'main_classification___8', 'main_classification___9', 'main_classification___10', 'main_classification___11', 'main_classification___12', 'main_classification___13']].any() == 1\n",
    "                  else 'CNS' if row['main_classification___3'] == 1\n",
    "                  else 'Leukemia' if row['main_classification___1'] == 1\",
    "                  else 'Lymphoma' if row['main_classification___2'] == 1\n",
    "                  else 'Not Oncology', axis=1)\n",
    ")\n",
    "\n",
    "# Explanation:\n",
    "# - The 'apply' function is used to apply a lambda function to each row of the DataFrame.\n",
    "# - The conditions check the values of 'main_classification___1', 'main_classification___2', and the range 'main_classification___4' to 'main_classification___13':\n",
    "#   - Combinations of conditions are checked for various classifications (Leukemia, Lymphoma, Solid Tumor, CNS).\n",
    "#   - The `any()` function is used to check if any value in the specified range of columns is equal to 1.\n",
    "#   - The 'onc_pdx' column is assigned the corresponding value based on the conditions.\n",
    "#   - If no condition matches, it defaults to \"Not Oncology\"."
   ]
  },
  {
   "cell_type": "code",
   "execution_count": null,
   "metadata": {},
   "outputs": [],
   "source": [
    "#View data with respective name and date of admission\n",
    "\n",
    "monthly_data[['first_name', 'middle_name', 'last_name', 'mr_no1', 'date_of_admission', 'onc_pdx']]"
   ]
  },
  {
   "cell_type": "code",
   "execution_count": null,
   "metadata": {},
   "outputs": [],
   "source": [
    "# Select only the required columns to export\n",
    "columns_to_export = ['first_name', 'middle_name', 'last_name', 'mr_no1', 'date_of_admission', 'onc_pdx']\n",
    "monthly_data_selected = monthly_data[columns_to_export]\n",
    "\n",
    "# Define the export path\n",
    "export_path = r'C:\\Users\\dell\\Desktop\\Pipelines\\onc_pdx_data.csv'\n",
    "\n",
    "# Export the selected data to CSV\n",
    "monthly_data_selected.to_csv(export_path, index=False)\n",
    "\n",
    "# Confirm the export\n",
    "print(f\"The data has been exported to {export_path}.\")\n"
   ]
  },
  {
   "cell_type": "code",
   "execution_count": null,
   "metadata": {},
   "outputs": [],
   "source": [
    "# Create a new variable 'hem_pdx' based on the specified conditions\n",
    "monthly_data['hem_pdx'] = (\n",
    "    monthly_data.apply(lambda row: 'Sickle Cell and Aplastic Anemia' if row['if_haemoglobinopathies_v2_50e4b9___1'] == 1 and row['aplastic_anemia_v2_97968a'] == 1\n",
    "                  else 'Sickle Cell and Hemophilia' if row['if_haemoglobinopathies_v2_50e4b9___1'] == 1 and (row['if_clotting_factor_deficie_v2_ca418a'] == 2 or row['if_clotting_factor_deficie_v2_ca418a'] == 3)\n",
    "                  else 'Hemophilia and Aplastic Anemia' if (row['if_clotting_factor_deficie_v2_ca418a'] == 2 or row['if_clotting_factor_deficie_v2_ca418a'] == 3) and row['aplastic_anemia_v2_97968a'] == 1\n",
    "                  else 'Sickle Cell' if row['if_haemoglobinopathies_v2_50e4b9___1'] == 1\n",
    "                  else 'Hemophilia' if row['if_clotting_factor_deficie_v2_ca418a'] == 2 or row['if_clotting_factor_deficie_v2_ca418a'] == 3\n",
    "                  else 'Aplastic Anemia' if row['aplastic_anemia_v2_97968a'] == 1\n",
    "                  else 'Other Hematology' if any(row[var] == 1 for var in [\n",
    "                        'hematology_conditions_v2_601c0d___1', 'hematology_conditions_v2_601c0d___2', 'hematology_conditions_v2_601c0d___3', \n",
    "                        'hematology_conditions_v2_601c0d___4', 'hematology_conditions_v2_601c0d___5', 'hematology_conditions_v2_601c0d___6', \n",
    "                        'hematology_conditions_v2_601c0d___7', 'red_blood_cells_disorders_v2_504a31', 'anemia_v2_6af468___1', \n",
    "                        'anemia_v2_6af468___2', 'anemia_v2_6af468___xx', 'if_hemolytic_anemia_v2_ae9683___1', 'if_hemolytic_anemia_v2_ae9683___2', \n",
    "                        'if_hemolytic_anemia_v2_ae9683___3', 'if_hemolytic_anemia_v2_ae9683___4', 'other_anemia_please_specif_v2_3a9059', \n",
    "                        'if_non_hemolytic_anemia_v2_ed62d0', 'white_blood_cells_disorder_v2_98d178', 'wbc_aetiology_1', \n",
    "                        'if_acquired_neutropenia_v2_85c5b3', 'if_congenital_neutropenia_v2_b0e502', 'if_severe_congenital_neutr_v2_b86f1a', \n",
    "                        'platelets_disorders_v2_20342a', 'thrombocytopenia_thrombast_2', 'if_acquired_thrombocytopenia_v2_e0bbe0', \n",
    "                        'if_congenital_thrombocytop_v2_d18556', 'thrombosis_disorders_site_v2_dbbdd3', 'coagulopathies_bleeding_di_v2_b1a973', \n",
    "                        'aplastic_anemia_v2_97968a', 'if_clotting_factor_deficie_v2_ca418a', 'aplastic_anemia_aetiology_v2_9ddd89', \n",
    "                        'acquired_aplastic_anemia_v2_a71bbb', 'if_congenital_bmfs_v2_d1685f', 'transfusion_related_disord_v2_1ce6f9___1', \n",
    "                        'transfusion_related_disord_v2_1ce6f9___2', 'if_chronic_transfusion_rel_v2_3fb721___1', 'if_chronic_transfusion_rel_v2_3fb721___2', \n",
    "                        'if_acute_transfusion_relat_v2_8f369d___1', 'if_acute_transfusion_relat_v2_8f369d___2', 'if_acute_transfusion_relat_v2_8f369d___3', \n",
    "                        'if_acute_transfusion_relat_v2_8f369d___4', 'if_acute_transfusion_relat_v2_8f369d___5', 'if_haemoglobinopathies_v2_50e4b9___1', \n",
    "                        'if_haemoglobinopathies_v2_50e4b9___2', 'if_haemoglobinopathies_v2_50e4b9___x', 'if_sickle_cell_disease_scd_v2_8253c6', \n",
    "                        'if_thalassemia_v2_154654', 'if_enzymopathies_v2_3c9d61___1', 'if_enzymopathies_v2_3c9d61___2', 'if_enzymopathies_v2_3c9d61___x', \n",
    "                        'if_membrinopathies_v2_ed4cb1', 'autoimmune_v2_52a509', 'if_enzymopathies_please_sp_v2_125d57', 'if_other_autoimmune_please_v2_4d0ab1', \n",
    "                        'if_other_membrinopathies_p_v2_2cadad']) else 'Not Hematology', axis=1)\n",
    ")\n",
    "\n",
    "\n",
    "\n",
    "# Explanation:\n",
    "# - The 'apply' function is used to apply a lambda function to each row of the DataFrame.\n",
    "# - The conditions check the values of 'if_haemoglobinopathies_v2_50e4b9___1', 'if_clotting_factor_deficie_v2_ca418a', and 'aplastic_anemia_v2_97968a'.\n",
    "# - Multiple combinations of conditions are checked for various hematology conditions.\n",
    "# - The 'hem_pdx' column is assigned the corresponding value based on the conditions.\n",
    "# - If no condition matches, it defaults to \"Not Hematology\".\n"
   ]
  },
  {
   "cell_type": "code",
   "execution_count": null,
   "metadata": {},
   "outputs": [],
   "source": [
    "monthly_data[['hem_pdx']]"
   ]
  },
  {
   "cell_type": "code",
   "execution_count": null,
   "metadata": {},
   "outputs": [],
   "source": [
    "# Select only the required columns for hem_pdx\n",
    "columns_to_export_hem_pdx = ['first_name', 'middle_name', 'last_name', 'mr_no1', 'date_of_admission', 'hem_pdx']\n",
    "monthly_data_hem_pdx_selected = monthly_data[columns_to_export_hem_pdx]\n",
    "\n",
    "# Define the export path for hem_pdx\n",
    "export_path_hem_pdx = r'C:\\Users\\dell\\Desktop\\Pipelines\\hem_pdx_data.csv'\n",
    "\n",
    "# Export the selected data to CSV\n",
    "monthly_data_hem_pdx_selected.to_csv(export_path_hem_pdx, index=False)\n",
    "\n",
    "# Confirm the export\n",
    "print(f\"The hem_pdx data has been exported to {export_path_hem_pdx}.\")\n"
   ]
  },
  {
   "cell_type": "code",
   "execution_count": null,
   "metadata": {},
   "outputs": [],
   "source": [
    "# Count values in 'onc_diagnosis_category' variable\n",
    "diagnosis_category_counts = monthly_data['diagnosis_category'].value_counts()\n",
    "\n",
    "# Count values in 'onc_pdx' variable\n",
    "onc_pdx_counts = monthly_data['onc_pdx'].value_counts()\n",
    "\n",
    "# Count values in 'hem_pdx' variable\n",
    "hem_pdx_counts = monthly_data['hem_pdx'].value_counts()\n",
    "\n",
    "# Print the counts for each variable\n",
    "print(\"Oncology Diagnosis Category Counts:\")\n",
    "print(diagnosis_category_counts)\n",
    "\n",
    "print(\"\\nOncology PDX Counts:\")\n",
    "print(onc_pdx_counts)\n",
    "\n",
    "print(\"\\nHematology PDX Counts:\")\n",
    "print(hem_pdx_counts)\n"
   ]
  }
 ],
 "metadata": {
  "kernelspec": {
   "display_name": "Python 3",
   "language": "python",
   "name": "python3"
  },
  "language_info": {
   "codemirror_mode": {
    "name": "ipython",
    "version": 3
   },
   "file_extension": ".py",
   "mimetype": "text/x-python",
   "name": "python",
   "nbconvert_exporter": "python",
   "pygments_lexer": "ipython3",
   "version": "3.11.9"
  }
 },
 "nbformat": 4,
 "nbformat_minor": 2
}
